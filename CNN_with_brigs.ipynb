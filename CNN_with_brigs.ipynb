{
 "cells": [
  {
   "cell_type": "code",
   "execution_count": 1,
   "metadata": {},
   "outputs": [],
   "source": [
    "import pandas as pd\n",
    "import numpy as np\n",
    "import matplotlib.pyplot as plt\n",
    "import tensorflow as tf\n",
    "import pathlib\n",
    "import os\n",
    "\n",
    "# In[50]:\n",
    "import tensorflow_datasets as tfds\n",
    "\n",
    "\n",
    "from tensorflow.keras.layers import Dense, Conv2D, Flatten, Dropout, MaxPooling2D,SeparableConv2D\n",
    "from tensorflow.keras import models\n",
    "from tensorflow.keras.preprocessing.image import ImageDataGenerator"
   ]
  },
  {
   "cell_type": "code",
   "execution_count": 2,
   "metadata": {},
   "outputs": [],
   "source": [
    "gpus = tf.config.list_physical_devices(\"GPU\")[0]\n",
    "tf.config.experimental.set_memory_growth(gpus, True)"
   ]
  },
  {
   "cell_type": "code",
   "execution_count": 4,
   "metadata": {},
   "outputs": [
    {
     "ename": "NameError",
     "evalue": "name 'train_images' is not defined",
     "output_type": "error",
     "traceback": [
      "\u001b[0;31m---------------------------------------------------------------------------\u001b[0m",
      "\u001b[0;31mNameError\u001b[0m                                 Traceback (most recent call last)",
      "\u001b[0;32m<ipython-input-4-8a7eb88366a6>\u001b[0m in \u001b[0;36m<module>\u001b[0;34m\u001b[0m\n\u001b[1;32m      1\u001b[0m \u001b[0mplt\u001b[0m\u001b[0;34m.\u001b[0m\u001b[0mfigure\u001b[0m\u001b[0;34m(\u001b[0m\u001b[0;34m)\u001b[0m\u001b[0;34m\u001b[0m\u001b[0;34m\u001b[0m\u001b[0m\n\u001b[0;32m----> 2\u001b[0;31m \u001b[0mplt\u001b[0m\u001b[0;34m.\u001b[0m\u001b[0mimshow\u001b[0m\u001b[0;34m(\u001b[0m\u001b[0mtrain_images\u001b[0m\u001b[0;34m[\u001b[0m\u001b[0;36m100\u001b[0m\u001b[0;34m]\u001b[0m\u001b[0;34m)\u001b[0m\u001b[0;34m\u001b[0m\u001b[0;34m\u001b[0m\u001b[0m\n\u001b[0m\u001b[1;32m      3\u001b[0m \u001b[0mplt\u001b[0m\u001b[0;34m.\u001b[0m\u001b[0mcolorbar\u001b[0m\u001b[0;34m(\u001b[0m\u001b[0;34m)\u001b[0m\u001b[0;34m\u001b[0m\u001b[0;34m\u001b[0m\u001b[0m\n\u001b[1;32m      4\u001b[0m \u001b[0mplt\u001b[0m\u001b[0;34m.\u001b[0m\u001b[0mgrid\u001b[0m\u001b[0;34m(\u001b[0m\u001b[0;32mFalse\u001b[0m\u001b[0;34m)\u001b[0m\u001b[0;34m\u001b[0m\u001b[0;34m\u001b[0m\u001b[0m\n\u001b[1;32m      5\u001b[0m \u001b[0mplt\u001b[0m\u001b[0;34m.\u001b[0m\u001b[0mshow\u001b[0m\u001b[0;34m(\u001b[0m\u001b[0;34m)\u001b[0m\u001b[0;34m\u001b[0m\u001b[0;34m\u001b[0m\u001b[0m\n",
      "\u001b[0;31mNameError\u001b[0m: name 'train_images' is not defined"
     ]
    },
    {
     "data": {
      "text/plain": [
       "<Figure size 432x288 with 0 Axes>"
      ]
     },
     "metadata": {},
     "output_type": "display_data"
    }
   ],
   "source": [
    "plt.figure()\n",
    "plt.imshow(train_images[100])\n",
    "plt.colorbar()\n",
    "plt.grid(False)\n",
    "plt.show()"
   ]
  },
  {
   "cell_type": "code",
   "execution_count": 155,
   "metadata": {},
   "outputs": [],
   "source": [
    "predict_data = train_images[100]"
   ]
  },
  {
   "cell_type": "code",
   "execution_count": 3,
   "metadata": {},
   "outputs": [],
   "source": [
    "\n",
    "# taring_data \n",
    "taring_data_path = \"/data/birds/train/*/*\"\n",
    "taring_data_ = pathlib.Path(taring_data_path)\n",
    "# test data\n",
    "test_data_path = \"/data/birds/test/*/*\"\n",
    "test_data_ = pathlib.Path(test_data_path)\n",
    " \n",
    "#vaildata \n",
    "valid_data_path = \"/data/birds/valid/*/*\"\n",
    "valid_data_ = pathlib.Path(valid_data_path)\n",
    "\n",
    "\n",
    "label_name = sorted(item.name for item in test_data_.glob('*/')\n",
    "                    if item.is_dir())"
   ]
  },
  {
   "cell_type": "code",
   "execution_count": 91,
   "metadata": {},
   "outputs": [
    {
     "name": "stdout",
     "output_type": "stream",
     "text": [
      "/data/birds/valid/98\n",
      "/data/birds/valid/138\n",
      "/data/birds/valid/68\n",
      "/data/birds/valid/24\n",
      "/data/birds/valid/172\n",
      "/data/birds/valid/69\n",
      "/data/birds/valid/23\n",
      "/data/birds/valid/121\n",
      "/data/birds/valid/179\n",
      "/data/birds/valid/67\n",
      "/data/birds/valid/28\n",
      "/data/birds/valid/82\n",
      "/data/birds/valid/32\n",
      "/data/birds/valid/171\n",
      "/data/birds/valid/87\n",
      "/data/birds/valid/162\n",
      "/data/birds/valid/144\n",
      "/data/birds/valid/106\n",
      "/data/birds/valid/94\n",
      "/data/birds/valid/0\n",
      "/data/birds/valid/143\n",
      "/data/birds/valid/14\n",
      "/data/birds/valid/99\n",
      "/data/birds/valid/132\n",
      "/data/birds/valid/42\n",
      "/data/birds/valid/65\n",
      "/data/birds/valid/35\n",
      "/data/birds/valid/29\n",
      "/data/birds/valid/44\n",
      "/data/birds/valid/15\n",
      "/data/birds/valid/103\n",
      "/data/birds/valid/156\n",
      "/data/birds/valid/145\n",
      "/data/birds/valid/80\n",
      "/data/birds/valid/64\n",
      "/data/birds/valid/131\n",
      "/data/birds/valid/72\n",
      "/data/birds/valid/112\n",
      "/data/birds/valid/63\n",
      "/data/birds/valid/152\n",
      "/data/birds/valid/128\n",
      "/data/birds/valid/10\n",
      "/data/birds/valid/71\n",
      "/data/birds/valid/169\n",
      "/data/birds/valid/1\n",
      "/data/birds/valid/108\n",
      "/data/birds/valid/36\n",
      "/data/birds/valid/91\n",
      "/data/birds/valid/124\n",
      "/data/birds/valid/130\n",
      "/data/birds/valid/105\n",
      "/data/birds/valid/70\n",
      "/data/birds/valid/114\n",
      "/data/birds/valid/25\n",
      "/data/birds/valid/4\n",
      "/data/birds/valid/79\n",
      "/data/birds/valid/52\n",
      "/data/birds/valid/160\n",
      "/data/birds/valid/129\n",
      "/data/birds/valid/111\n",
      "/data/birds/valid/123\n",
      "/data/birds/valid/81\n",
      "/data/birds/valid/137\n",
      "/data/birds/valid/41\n",
      "/data/birds/valid/167\n",
      "/data/birds/valid/17\n",
      "/data/birds/valid/153\n",
      "/data/birds/valid/95\n",
      "/data/birds/valid/16\n",
      "/data/birds/valid/18\n",
      "/data/birds/valid/161\n",
      "/data/birds/valid/56\n",
      "/data/birds/valid/39\n",
      "/data/birds/valid/155\n",
      "/data/birds/valid/76\n",
      "/data/birds/valid/122\n",
      "/data/birds/valid/134\n",
      "/data/birds/valid/148\n",
      "/data/birds/valid/6\n",
      "/data/birds/valid/151\n",
      "/data/birds/valid/46\n",
      "/data/birds/valid/83\n",
      "/data/birds/valid/20\n",
      "/data/birds/valid/37\n",
      "/data/birds/valid/51\n",
      "/data/birds/valid/154\n",
      "/data/birds/valid/9\n",
      "/data/birds/valid/27\n",
      "/data/birds/valid/110\n",
      "/data/birds/valid/180\n",
      "/data/birds/valid/77\n",
      "/data/birds/valid/175\n",
      "/data/birds/valid/13\n",
      "/data/birds/valid/113\n",
      "/data/birds/valid/140\n",
      "/data/birds/valid/50\n",
      "/data/birds/valid/45\n",
      "/data/birds/valid/182\n",
      "/data/birds/valid/86\n",
      "/data/birds/valid/78\n",
      "/data/birds/valid/170\n",
      "/data/birds/valid/177\n",
      "/data/birds/valid/57\n",
      "/data/birds/valid/34\n",
      "/data/birds/valid/31\n",
      "/data/birds/valid/43\n",
      "/data/birds/valid/184\n",
      "/data/birds/valid/40\n",
      "/data/birds/valid/75\n",
      "/data/birds/valid/181\n",
      "/data/birds/valid/118\n",
      "/data/birds/valid/173\n",
      "/data/birds/valid/88\n",
      "/data/birds/valid/97\n",
      "/data/birds/valid/126\n",
      "/data/birds/valid/48\n",
      "/data/birds/valid/12\n",
      "/data/birds/valid/58\n",
      "/data/birds/valid/5\n",
      "/data/birds/valid/119\n",
      "/data/birds/valid/3\n",
      "/data/birds/valid/176\n",
      "/data/birds/valid/59\n",
      "/data/birds/valid/125\n",
      "/data/birds/valid/159\n",
      "/data/birds/valid/115\n",
      "/data/birds/valid/142\n",
      "/data/birds/valid/53\n",
      "/data/birds/valid/135\n",
      "/data/birds/valid/158\n",
      "/data/birds/valid/117\n",
      "/data/birds/valid/74\n",
      "/data/birds/valid/101\n",
      "/data/birds/valid/164\n",
      "/data/birds/valid/150\n",
      "/data/birds/valid/11\n",
      "/data/birds/valid/7\n",
      "/data/birds/valid/165\n",
      "/data/birds/valid/96\n",
      "/data/birds/valid/61\n",
      "/data/birds/valid/107\n",
      "/data/birds/valid/139\n",
      "/data/birds/valid/2\n",
      "/data/birds/valid/141\n",
      "/data/birds/valid/8\n",
      "/data/birds/valid/90\n",
      "/data/birds/valid/116\n",
      "/data/birds/valid/85\n",
      "/data/birds/valid/100\n",
      "/data/birds/valid/54\n",
      "/data/birds/valid/102\n",
      "/data/birds/valid/120\n",
      "/data/birds/valid/66\n",
      "/data/birds/valid/136\n",
      "/data/birds/valid/21\n",
      "/data/birds/valid/26\n",
      "/data/birds/valid/19\n",
      "/data/birds/valid/22\n",
      "/data/birds/valid/33\n",
      "/data/birds/valid/183\n",
      "/data/birds/valid/168\n",
      "/data/birds/valid/174\n",
      "/data/birds/valid/133\n",
      "/data/birds/valid/49\n",
      "/data/birds/valid/89\n",
      "/data/birds/valid/93\n",
      "/data/birds/valid/127\n",
      "/data/birds/valid/62\n",
      "/data/birds/valid/157\n",
      "/data/birds/valid/104\n",
      "/data/birds/valid/55\n",
      "/data/birds/valid/60\n",
      "/data/birds/valid/146\n",
      "/data/birds/valid/38\n",
      "/data/birds/valid/109\n",
      "/data/birds/valid/84\n",
      "/data/birds/valid/30\n",
      "/data/birds/valid/47\n",
      "/data/birds/valid/166\n",
      "/data/birds/valid/178\n",
      "/data/birds/valid/163\n",
      "/data/birds/valid/147\n",
      "/data/birds/valid/149\n",
      "/data/birds/valid/92\n",
      "/data/birds/valid/73\n"
     ]
    }
   ],
   "source": [
    "pre_listc = [ i for i in list(pathlib.Path(\"/data/birds/valid/\").glob(\"**/*\"))]\n",
    "count = 0 \n",
    "import os\n",
    "for i in pre_listc:\n",
    "    if i.is_dir():\n",
    "        print(i)\n",
    "        \n"
   ]
  },
  {
   "cell_type": "code",
   "execution_count": 6,
   "metadata": {},
   "outputs": [],
   "source": [
    "pre_list = [ str(i) for i in list(pathlib.Path(\"/data/birds/valid/\").glob(\"*/*\"))]\n",
    "predict_data = list()\n",
    "for a in pre_list[::100]:\n",
    "    print(a)\n",
    "    a = tf.io.read_file(a).numpy()\n",
    "\n",
    "    d =tf.image.resize( tf.image.decode_jpeg(a), [150, 150])\n",
    "    d = d.numpy()\n",
    "    \n",
    "    d = d.reshape(1,150,150,3).tolist()\n",
    "    predict_data.append(d)  \n",
    "\n",
    "\n",
    "\n",
    "\n",
    "\n",
    "\n",
    "#par_ds  = tf.data.Dataset.from_tensor_slices(traing_image_path).map(parse_image).shuffle(buffer_size=2000).batch(batch_size=100).repeat()\n"
   ]
  },
  {
   "cell_type": "code",
   "execution_count": 92,
   "metadata": {},
   "outputs": [],
   "source": [
    "def parse_image(filename):\n",
    "    parts = tf.strings.split(filename, os.sep)\n",
    "    label = parts[-2]\n",
    "    #print(tf.strings.as_string(label))\n",
    "    label  == label_name\n",
    "    image = tf.io.read_file(filename)\n",
    "    image = tf.image.decode_jpeg(image)\n",
    "    image = tf.image.convert_image_dtype(image, tf.float32)\n",
    "    image = tf.image.resize(image, [150, 150])\n",
    "    return image, label"
   ]
  },
  {
   "cell_type": "code",
   "execution_count": 93,
   "metadata": {},
   "outputs": [],
   "source": [
    "traing_ds = tf.data.Dataset.list_files(str(taring_data_)).map(parse_image).shuffle(buffer_size=2000).batch(batch_size=100).repeat()\n",
    "\n",
    "validation_ds = tf.data.Dataset.list_files(str(valid_data_)).map(parse_image).shuffle(buffer_size=2000).batch(batch_size=100).repeat()\n",
    "test_ds =  tf.data.Dataset.list_files(str(test_data_)).map(parse_image).shuffle(buffer_size=2000).batch(batch_size=100).repeat()\n",
    "\n",
    "# for i in traing_ds.take(100):\n",
    "#     c = i[0]\n",
    "#     print(i[1])\n",
    "#     plt.figure()\n",
    "#     plt.imshow(c)\n",
    "#     plt.colorbar()\n",
    "#     #plt.grid(False)\n",
    "#     plt.show()\n"
   ]
  },
  {
   "cell_type": "code",
   "execution_count": null,
   "metadata": {},
   "outputs": [],
   "source": []
  },
  {
   "cell_type": "code",
   "execution_count": 75,
   "metadata": {},
   "outputs": [
    {
     "name": "stdout",
     "output_type": "stream",
     "text": [
      "<class 'str'>\n"
     ]
    }
   ],
   "source": [
    "for i in traing_ds.take(1):\n",
    "#     d = i[0][0].numpy()\n",
    "    \n",
    "#     #d = d.reshape(32,32,3).tolist()\n",
    "#     #d\n",
    "#     plt.figure()\n",
    "#     plt.imshow(d)\n",
    "#     #plt.grid(False)\n",
    "#     plt.show()\n",
    "#     #data = i[1]\n",
    "    a = i[1][0]\n",
    "    \n",
    "    print(type(a.numpy().decode()))\n",
    "    "
   ]
  },
  {
   "cell_type": "code",
   "execution_count": 94,
   "metadata": {},
   "outputs": [],
   "source": [
    "model = models.Sequential()\n",
    "model.add(Conv2D(32, (3, 3), activation='relu', input_shape=(150, 150, 3)))\n",
    "model.add(MaxPooling2D((2, 2)))\n",
    "model.add(Dropout(0.2))\n",
    "model.add(SeparableConv2D(64, (3, 3), activation='relu'))\n",
    "model.add(MaxPooling2D((2, 2)))\n",
    "\n",
    "model.add(SeparableConv2D(128, (3, 3), activation='relu'))\n",
    "model.add(MaxPooling2D((2, 2)))\n",
    "model.add(Dropout(0.2))\n",
    "model.add(Flatten())\n",
    "model.add(Dense(64, activation='relu'))\n",
    "model.add(Dense(10))"
   ]
  },
  {
   "cell_type": "code",
   "execution_count": 95,
   "metadata": {},
   "outputs": [
    {
     "name": "stdout",
     "output_type": "stream",
     "text": [
      "Model: \"sequential\"\n",
      "_________________________________________________________________\n",
      "Layer (type)                 Output Shape              Param #   \n",
      "=================================================================\n",
      "conv2d (Conv2D)              (None, 148, 148, 32)      896       \n",
      "_________________________________________________________________\n",
      "max_pooling2d (MaxPooling2D) (None, 74, 74, 32)        0         \n",
      "_________________________________________________________________\n",
      "dropout (Dropout)            (None, 74, 74, 32)        0         \n",
      "_________________________________________________________________\n",
      "separable_conv2d (SeparableC (None, 72, 72, 64)        2400      \n",
      "_________________________________________________________________\n",
      "max_pooling2d_1 (MaxPooling2 (None, 36, 36, 64)        0         \n",
      "_________________________________________________________________\n",
      "separable_conv2d_1 (Separabl (None, 34, 34, 128)       8896      \n",
      "_________________________________________________________________\n",
      "max_pooling2d_2 (MaxPooling2 (None, 17, 17, 128)       0         \n",
      "_________________________________________________________________\n",
      "dropout_1 (Dropout)          (None, 17, 17, 128)       0         \n",
      "_________________________________________________________________\n",
      "flatten (Flatten)            (None, 36992)             0         \n",
      "_________________________________________________________________\n",
      "dense (Dense)                (None, 64)                2367552   \n",
      "_________________________________________________________________\n",
      "dense_1 (Dense)              (None, 10)                650       \n",
      "=================================================================\n",
      "Total params: 2,380,394\n",
      "Trainable params: 2,380,394\n",
      "Non-trainable params: 0\n",
      "_________________________________________________________________\n"
     ]
    }
   ],
   "source": [
    "model.summary()\n",
    "model.compile(optimizer='adam',\n",
    "              loss=tf.keras.losses.BinaryCrossentropy(from_logits=False),\n",
    "              metrics=['accuracy'])"
   ]
  },
  {
   "cell_type": "code",
   "execution_count": null,
   "metadata": {},
   "outputs": [
    {
     "name": "stdout",
     "output_type": "stream",
     "text": [
      "Train for 1000 steps, validate for 5 steps\n",
      "Epoch 1/10\n"
     ]
    }
   ],
   "source": [
    "history =model.fit(traing_ds,epochs=10, \n",
    "                   steps_per_epoch=1000,\n",
    "                   validation_data=validation_ds, \n",
    "                   validation_steps=5)\n"
   ]
  },
  {
   "cell_type": "code",
   "execution_count": 47,
   "metadata": {},
   "outputs": [
    {
     "name": "stdout",
     "output_type": "stream",
     "text": [
      "100/100 [==============================] - 9s 88ms/step - loss: 0.0864 - accuracy: 0.9946\n"
     ]
    },
    {
     "data": {
      "text/plain": [
       "[0.08637970566749573, 0.9945946]"
      ]
     },
     "execution_count": 47,
     "metadata": {},
     "output_type": "execute_result"
    }
   ],
   "source": [
    "model.evaluate(test_ds, steps=100)"
   ]
  },
  {
   "cell_type": "code",
   "execution_count": 6,
   "metadata": {},
   "outputs": [
    {
     "ename": "NameError",
     "evalue": "name 'cloese_model' is not defined",
     "output_type": "error",
     "traceback": [
      "\u001b[0;31m---------------------------------------------------------------------------\u001b[0m",
      "\u001b[0;31mNameError\u001b[0m                                 Traceback (most recent call last)",
      "\u001b[0;32m<ipython-input-6-ce999a0e0170>\u001b[0m in \u001b[0;36m<module>\u001b[0;34m\u001b[0m\n\u001b[1;32m      7\u001b[0m               \u001b[0mloss\u001b[0m\u001b[0;34m=\u001b[0m\u001b[0mtf\u001b[0m\u001b[0;34m.\u001b[0m\u001b[0mkeras\u001b[0m\u001b[0;34m.\u001b[0m\u001b[0mlosses\u001b[0m\u001b[0;34m.\u001b[0m\u001b[0mSparseCategoricalCrossentropy\u001b[0m\u001b[0;34m(\u001b[0m\u001b[0mfrom_logits\u001b[0m\u001b[0;34m=\u001b[0m\u001b[0;32mTrue\u001b[0m\u001b[0;34m)\u001b[0m\u001b[0;34m,\u001b[0m\u001b[0;34m\u001b[0m\u001b[0;34m\u001b[0m\u001b[0m\n\u001b[1;32m      8\u001b[0m               metrics=['accuracy'])\n\u001b[0;32m----> 9\u001b[0;31m \u001b[0mcloese_model\u001b[0m\u001b[0;34m.\u001b[0m\u001b[0msummary\u001b[0m\u001b[0;34m(\u001b[0m\u001b[0;34m)\u001b[0m\u001b[0;34m\u001b[0m\u001b[0;34m\u001b[0m\u001b[0m\n\u001b[0m",
      "\u001b[0;31mNameError\u001b[0m: name 'cloese_model' is not defined"
     ]
    }
   ],
   "source": [
    "clothing_model = models.Sequential([\n",
    "   Flatten(input_shape=(28, 28)),\n",
    "   Dense(128, activation='relu'),\n",
    "   Dense(10)\n",
    "])\n",
    "clothing_model.compile(optimizer='adam',\n",
    "              loss=tf.keras.losses.SparseCategoricalCrossentropy(from_logits=True),\n",
    "              metrics=['accuracy'])\n",
    "cloese_model.summary()"
   ]
  },
  {
   "cell_type": "code",
   "execution_count": 163,
   "metadata": {},
   "outputs": [
    {
     "name": "stdout",
     "output_type": "stream",
     "text": [
      "Train on 60000 samples\n",
      "Epoch 1/10\n",
      "60000/60000 [==============================] - 8s 135us/sample - loss: 3.0332 - accuracy: 0.6874\n",
      "Epoch 2/10\n",
      "60000/60000 [==============================] - 9s 143us/sample - loss: 0.7095 - accuracy: 0.7333\n",
      "Epoch 3/10\n",
      "60000/60000 [==============================] - 8s 142us/sample - loss: 0.6228 - accuracy: 0.7658\n",
      "Epoch 4/10\n",
      "60000/60000 [==============================] - 8s 138us/sample - loss: 0.5515 - accuracy: 0.8070\n",
      "Epoch 5/10\n",
      "60000/60000 [==============================] - 8s 133us/sample - loss: 0.5081 - accuracy: 0.8236\n",
      "Epoch 6/10\n",
      "60000/60000 [==============================] - 8s 136us/sample - loss: 0.5090 - accuracy: 0.8251\n",
      "Epoch 7/10\n",
      "60000/60000 [==============================] - 9s 142us/sample - loss: 0.4840 - accuracy: 0.8321\n",
      "Epoch 8/10\n",
      "60000/60000 [==============================] - 9s 143us/sample - loss: 0.4808 - accuracy: 0.8353\n",
      "Epoch 9/10\n",
      "60000/60000 [==============================] - 9s 144us/sample - loss: 0.4845 - accuracy: 0.8337\n",
      "Epoch 10/10\n",
      "60000/60000 [==============================] - 9s 145us/sample - loss: 0.4689 - accuracy: 0.8391\n"
     ]
    },
    {
     "data": {
      "text/plain": [
       "<tensorflow.python.keras.callbacks.History at 0x7f4955d270b8>"
      ]
     },
     "execution_count": 163,
     "metadata": {},
     "output_type": "execute_result"
    }
   ],
   "source": [
    "clothing_model.fit(train_images, train_labels, epochs=10)"
   ]
  },
  {
   "cell_type": "code",
   "execution_count": 164,
   "metadata": {},
   "outputs": [
    {
     "name": "stdout",
     "output_type": "stream",
     "text": [
      "10000/10000 [==============================] - 3s 294us/sample - loss: 0.5523 - accuracy: 0.8289\n"
     ]
    },
    {
     "data": {
      "text/plain": [
       "[0.5522925056931562, 0.8289]"
      ]
     },
     "execution_count": 164,
     "metadata": {},
     "output_type": "execute_result"
    }
   ],
   "source": [
    "clothing_model.evaluate(test_images, test_labels, steps=1000)"
   ]
  },
  {
   "cell_type": "code",
   "execution_count": 165,
   "metadata": {},
   "outputs": [
    {
     "name": "stdout",
     "output_type": "stream",
     "text": [
      "(1, 28, 28)\n",
      "3\n"
     ]
    },
    {
     "data": {
      "text/plain": [
       "'Dress'"
      ]
     },
     "execution_count": 165,
     "metadata": {},
     "output_type": "execute_result"
    }
   ],
   "source": [
    "\n",
    "predict_data = predict_data.reshape(1,28,28)\n",
    "print(predict_data.shape)\n",
    "data_pre = cloese_model.predict(predict_data)\n",
    "pre_num = np.argmax(data_pre)\n",
    "print(pre_num)\n",
    "class_names[pre_num]"
   ]
  },
  {
   "cell_type": "code",
   "execution_count": 168,
   "metadata": {},
   "outputs": [
    {
     "name": "stdout",
     "output_type": "stream",
     "text": [
      "Model: \"sequential_13\"\n",
      "_________________________________________________________________\n",
      "Layer (type)                 Output Shape              Param #   \n",
      "=================================================================\n",
      "conv2d_19 (Conv2D)           (None, 100, 100, 32)      896       \n",
      "_________________________________________________________________\n",
      "max_pooling2d_15 (MaxPooling (None, 50, 50, 32)        0         \n",
      "_________________________________________________________________\n",
      "conv2d_20 (Conv2D)           (None, 50, 50, 64)        18496     \n",
      "_________________________________________________________________\n",
      "max_pooling2d_16 (MaxPooling (None, 25, 25, 64)        0         \n",
      "_________________________________________________________________\n",
      "dropout_8 (Dropout)          (None, 25, 25, 64)        0         \n",
      "_________________________________________________________________\n",
      "conv2d_21 (Conv2D)           (None, 25, 25, 128)       73856     \n",
      "_________________________________________________________________\n",
      "max_pooling2d_17 (MaxPooling (None, 12, 12, 128)       0         \n",
      "_________________________________________________________________\n",
      "dropout_9 (Dropout)          (None, 12, 12, 128)       0         \n",
      "_________________________________________________________________\n",
      "flatten_11 (Flatten)         (None, 18432)             0         \n",
      "_________________________________________________________________\n",
      "dense_22 (Dense)             (None, 512)               9437696   \n",
      "_________________________________________________________________\n",
      "dense_23 (Dense)             (None, 1)                 513       \n",
      "=================================================================\n",
      "Total params: 9,531,457\n",
      "Trainable params: 9,531,457\n",
      "Non-trainable params: 0\n",
      "_________________________________________________________________\n"
     ]
    }
   ],
   "source": [
    "new_model = models.Sequential([\n",
    "   \n",
    "    Conv2D(32, 3, padding='same', activation='relu', input_shape=(100, 100 ,3)),\n",
    "    MaxPooling2D(),\n",
    "    Conv2D(64, 3, padding='same', activation='relu'),\n",
    "    MaxPooling2D(),\n",
    "    Dropout(0.2),\n",
    "    Conv2D(128, 3, padding='same', activation='relu'),\n",
    "    MaxPooling2D(),\n",
    "    Dropout(0.2),\n",
    "    Flatten(),\n",
    "    Dense(512, activation='relu'),\n",
    "    Dense(1)\n",
    "])\n",
    "new_model.summary()\n",
    "new_model.compile(optimizer='adam',\n",
    "              loss=tf.keras.losses.BinaryCrossentropy(from_logits=True),\n",
    "              metrics=['accuracy'])"
   ]
  },
  {
   "cell_type": "code",
   "execution_count": 9,
   "metadata": {},
   "outputs": [
    {
     "ename": "NameError",
     "evalue": "name 'new_model' is not defined",
     "output_type": "error",
     "traceback": [
      "\u001b[0;31m---------------------------------------------------------------------------\u001b[0m",
      "\u001b[0;31mNameError\u001b[0m                                 Traceback (most recent call last)",
      "\u001b[0;32m<ipython-input-9-6065027fce71>\u001b[0m in \u001b[0;36m<module>\u001b[0;34m\u001b[0m\n\u001b[0;32m----> 1\u001b[0;31m \u001b[0mhistory\u001b[0m \u001b[0;34m=\u001b[0m\u001b[0mnew_model\u001b[0m\u001b[0;34m.\u001b[0m\u001b[0mfit\u001b[0m\u001b[0;34m(\u001b[0m\u001b[0mtraing_ds\u001b[0m\u001b[0;34m,\u001b[0m\u001b[0mepochs\u001b[0m\u001b[0;34m=\u001b[0m\u001b[0;36m10\u001b[0m\u001b[0;34m,\u001b[0m \u001b[0msteps_per_epoch\u001b[0m\u001b[0;34m=\u001b[0m\u001b[0;36m1000\u001b[0m\u001b[0;34m,\u001b[0m\u001b[0mvalidation_data\u001b[0m\u001b[0;34m=\u001b[0m\u001b[0mvalidation_ds\u001b[0m\u001b[0;34m,\u001b[0m \u001b[0mvalidation_steps\u001b[0m\u001b[0;34m=\u001b[0m\u001b[0;36m5\u001b[0m\u001b[0;34m)\u001b[0m\u001b[0;34m\u001b[0m\u001b[0;34m\u001b[0m\u001b[0m\n\u001b[0m",
      "\u001b[0;31mNameError\u001b[0m: name 'new_model' is not defined"
     ]
    }
   ],
   "source": [
    "history =new_model.fit(traing_ds,epochs=10, steps_per_epoch=1000,validation_data=validation_ds, validation_steps=5)\n"
   ]
  },
  {
   "cell_type": "code",
   "execution_count": 170,
   "metadata": {},
   "outputs": [
    {
     "name": "stdout",
     "output_type": "stream",
     "text": [
      "100/100 [==============================] - 7s 66ms/step - loss: 2.4437 - accuracy: 0.7240\n"
     ]
    },
    {
     "data": {
      "text/plain": [
       "[2.4437484443187714, 0.724]"
      ]
     },
     "execution_count": 170,
     "metadata": {},
     "output_type": "execute_result"
    }
   ],
   "source": [
    "models.evaluate(validation_ds, steps=100)\n"
   ]
  },
  {
   "cell_type": "code",
   "execution_count": 35,
   "metadata": {},
   "outputs": [
    {
     "name": "stdout",
     "output_type": "stream",
     "text": [
      "       loss  accuracy  val_loss  val_accuracy\n",
      "0  0.059901  0.996117   0.12340         0.992\n",
      "1  0.059918  0.996116   0.12340         0.992\n",
      "2  0.059918  0.996116   0.12340         0.992\n",
      "3  0.059918  0.996116   0.09255         0.994\n",
      "4  0.059918  0.996116   0.12340         0.992\n",
      "5  0.059764  0.996126   0.09255         0.994\n",
      "6  0.060073  0.996105   0.12340         0.992\n",
      "7  0.059609  0.996136   0.12340         0.992\n",
      "8  0.060227  0.996095   0.12340         0.992\n",
      "9  0.059918  0.996116   0.06170         0.996\n"
     ]
    },
    {
     "data": {
      "image/png": "[encoded data removed]",
      "text/plain": [
       "<Figure size 576x360 with 1 Axes>"
      ]
     },
     "metadata": {
      "needs_background": "light"
     },
     "output_type": "display_data"
    }
   ],
   "source": [
    "import matplotlib.pyplot as plt\n",
    "\n",
    "def plot_curves(history):\n",
    "    pd.DataFrame(history.history).plot(figsize=(8,5))\n",
    "    print(pd.DataFrame(history.history))\n",
    "    plt.grid(True)\n",
    "    plt.gca().set_ylim(0,3.2)\n",
    "    plt.show()\n",
    "plot_curves(history)\n",
    "\n",
    "# acc = history.history['accuracy']\n",
    "# val_acc = history.history['val_accuracy']\n",
    "\n",
    "# loss = history.history['loss']\n",
    "# val_loss = history.history['val_loss']\n",
    "\n",
    "# epochs_range = range(10)\n",
    "\n",
    "# plt.figure(figsize=(8, 8))\n",
    "# plt.subplot(1, 2, 1)\n",
    "# plt.plot(epochs_range, acc, label='Training Accuracy')\n",
    "# plt.plot(epochs_range, val_acc, label='Validation Accuracy')\n",
    "# plt.legend(loc='lower right')\n",
    "# plt.title('Training and Validation Accuracy')\n",
    "\n",
    "# plt.subplot(1, 2, 2)\n",
    "# plt.plot(epochs_range, loss, label='Training Loss')\n",
    "# plt.plot(epochs_range, val_loss, label='Validation Loss')\n",
    "# plt.legend(loc='upper right')\n",
    "# plt.title('Training and Validation Loss')\n",
    "# plt.show()\n",
    "# acc = new_model.history.history['accuracy']\n",
    "# val_acc = new_model.history.history['val_accuracy']\n",
    "\n",
    "# loss = new_model.history.history['loss']\n",
    "# val_loss = new_model.history.history['val_loss']\n",
    "\n",
    "# epochs_range = range(10)\n",
    "\n",
    "# plt.figure(figsize=(8, 8))\n",
    "# plt.subplot(1, 2, 1)\n",
    "# plt.plot(epochs_range, acc, label='Training Accuracy')\n",
    "# plt.plot(epochs_range, val_acc, label='Validation Accuracy')\n",
    "# plt.legend(loc='lower right')\n",
    "# plt.title('Training and Validation Accuracy')\n",
    "\n",
    "# plt.subplot(1, 2, 2)\n",
    "# plt.plot(epochs_range, loss, label='Training Loss')\n",
    "# plt.plot(epochs_range, val_loss, label='Validation Loss')\n",
    "# plt.legend(loc='upper right')\n",
    "# plt.title('Training and Validation Loss')\n",
    "# plt.show()"
   ]
  },
  {
   "cell_type": "code",
   "execution_count": null,
   "metadata": {},
   "outputs": [],
   "source": []
  },
  {
   "cell_type": "code",
   "execution_count": 50,
   "metadata": {},
   "outputs": [
    {
     "name": "stdout",
     "output_type": "stream",
     "text": [
      "[[-0.70370555 -0.5365582  -0.20356709 -1.6748595  -0.56169474 -0.4296621\n",
      "  -0.64041096 -0.5956899  -1.1157427  -1.2996111 ]]\n",
      "2\n",
      "[[-0.70370555 -0.5365582  -0.20356709 -1.6748595  -0.56169474 -0.4296621\n",
      "  -0.64041096 -0.5956899  -1.1157427  -1.2996111 ]]\n",
      "2\n",
      "[[-0.70370555 -0.5365582  -0.20356709 -1.6748595  -0.56169474 -0.4296621\n",
      "  -0.64041096 -0.5956899  -1.1157427  -1.2996111 ]]\n",
      "2\n",
      "[[-0.70370555 -0.5365582  -0.20356709 -1.6748595  -0.56169474 -0.4296621\n",
      "  -0.64041096 -0.5956899  -1.1157427  -1.2996111 ]]\n",
      "2\n",
      "[[-0.70370555 -0.5365582  -0.20356709 -1.6748595  -0.56169474 -0.4296621\n",
      "  -0.64041096 -0.5956899  -1.1157427  -1.2996111 ]]\n",
      "2\n",
      "[[-0.70370555 -0.5365582  -0.20356709 -1.6748595  -0.56169474 -0.4296621\n",
      "  -0.64041096 -0.5956899  -1.1157427  -1.2996111 ]]\n",
      "2\n",
      "[[-0.70370555 -0.5365582  -0.20356709 -1.6748595  -0.56169474 -0.4296621\n",
      "  -0.64041096 -0.5956899  -1.1157427  -1.2996111 ]]\n",
      "2\n",
      "[[-0.70370555 -0.5365582  -0.20356709 -1.6748595  -0.56169474 -0.4296621\n",
      "  -0.64041096 -0.5956899  -1.1157427  -1.2996111 ]]\n",
      "2\n",
      "[[-0.70370555 -0.5365582  -0.20356709 -1.6748595  -0.56169474 -0.4296621\n",
      "  -0.64041096 -0.5956899  -1.1157427  -1.2996111 ]]\n",
      "2\n",
      "[[-0.70370555 -0.5365582  -0.20356709 -1.6748595  -0.56169474 -0.4296621\n",
      "  -0.64041096 -0.5956899  -1.1157427  -1.2996111 ]]\n",
      "2\n",
      "[[-0.70370555 -0.5365582  -0.20356709 -1.6748595  -0.56169474 -0.4296621\n",
      "  -0.64041096 -0.5956899  -1.1157427  -1.2996111 ]]\n",
      "2\n",
      "[[-0.70370555 -0.5365582  -0.20356709 -1.6748595  -0.56169474 -0.4296621\n",
      "  -0.64041096 -0.5956899  -1.1157427  -1.2996111 ]]\n",
      "2\n",
      "[[-0.70370555 -0.5365582  -0.20356709 -1.6748595  -0.56169474 -0.4296621\n",
      "  -0.64041096 -0.5956899  -1.1157427  -1.2996111 ]]\n",
      "2\n",
      "[[-0.70370555 -0.5365582  -0.20356709 -1.6748595  -0.56169474 -0.4296621\n",
      "  -0.64041096 -0.5956899  -1.1157427  -1.2996111 ]]\n",
      "2\n",
      "[[-0.70370555 -0.5365582  -0.20356709 -1.6748595  -0.56169474 -0.4296621\n",
      "  -0.64041096 -0.5956899  -1.1157427  -1.2996111 ]]\n",
      "2\n",
      "[[-0.70370555 -0.5365582  -0.20356709 -1.6748595  -0.56169474 -0.4296621\n",
      "  -0.64041096 -0.5956899  -1.1157427  -1.2996111 ]]\n",
      "2\n",
      "[[-0.70370555 -0.5365582  -0.20356709 -1.6748595  -0.56169474 -0.4296621\n",
      "  -0.64041096 -0.5956899  -1.1157427  -1.2996111 ]]\n",
      "2\n",
      "[[-0.70370555 -0.5365582  -0.20356709 -1.6748595  -0.56169474 -0.4296621\n",
      "  -0.64041096 -0.5956899  -1.1157427  -1.2996111 ]]\n",
      "2\n",
      "[[-0.70370555 -0.5365582  -0.20356709 -1.6748595  -0.56169474 -0.4296621\n",
      "  -0.64041096 -0.5956899  -1.1157427  -1.2996111 ]]\n",
      "2\n",
      "[[-0.70370555 -0.5365582  -0.20356709 -1.6748595  -0.56169474 -0.4296621\n",
      "  -0.64041096 -0.5956899  -1.1157427  -1.2996111 ]]\n",
      "2\n",
      "[[-0.70370555 -0.5365582  -0.20356709 -1.6748595  -0.56169474 -0.4296621\n",
      "  -0.64041096 -0.5956899  -1.1157427  -1.2996111 ]]\n",
      "2\n",
      "[[-0.70370555 -0.5365582  -0.20356709 -1.6748595  -0.56169474 -0.4296621\n",
      "  -0.64041096 -0.5956899  -1.1157427  -1.2996111 ]]\n",
      "2\n",
      "[[-0.70370555 -0.5365582  -0.20356709 -1.6748595  -0.56169474 -0.4296621\n",
      "  -0.64041096 -0.5956899  -1.1157427  -1.2996111 ]]\n",
      "2\n",
      "[[-0.70370555 -0.5365582  -0.20356709 -1.6748595  -0.56169474 -0.4296621\n",
      "  -0.64041096 -0.5956899  -1.1157427  -1.2996111 ]]\n",
      "2\n",
      "[[-0.70370555 -0.5365582  -0.20356709 -1.6748595  -0.56169474 -0.4296621\n",
      "  -0.64041096 -0.5956899  -1.1157427  -1.2996111 ]]\n",
      "2\n",
      "[[-0.70370555 -0.5365582  -0.20356709 -1.6748595  -0.56169474 -0.4296621\n",
      "  -0.64041096 -0.5956899  -1.1157427  -1.2996111 ]]\n",
      "2\n"
     ]
    }
   ],
   "source": [
    "# pre_data = model.predict(pre_dict[0])\n",
    "#np.argmax(pre_data)\n",
    "#print(pre_dict[1])\n",
    "#plt.imshow(pre_dict[1])\n",
    "for i in pre_dict:\n",
    "    pre_data = model.predict(pre_dict[0])\n",
    "    print(pre_data)\n",
    "    print(np.argmax(pre_data))"
   ]
  }
 ],
 "metadata": {
  "kernelspec": {
   "display_name": "Python 3",
   "language": "python",
   "name": "python3"
  },
  "language_info": {
   "codemirror_mode": {
    "name": "ipython",
    "version": 3
   },
   "file_extension": ".py",
   "mimetype": "text/x-python",
   "name": "python",
   "nbconvert_exporter": "python",
   "pygments_lexer": "ipython3",
   "version": "3.6.9"
  }
 },
 "nbformat": 4,
 "nbformat_minor": 4
}
